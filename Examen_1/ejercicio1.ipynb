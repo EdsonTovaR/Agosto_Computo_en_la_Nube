{
 "cells": [
  {
   "cell_type": "code",
   "execution_count": 4,
   "metadata": {},
   "outputs": [
    {
     "name": "stdout",
     "output_type": "stream",
     "text": [
      "False\n"
     ]
    }
   ],
   "source": [
    "def es_primo(num):\n",
    "    if num <= 1:\n",
    "        return False\n",
    "    if num <=3:\n",
    "        return True\n",
    "    if num % 2==0  or num % 3 == 0:\n",
    "        return False\n",
    "    \n",
    "    i=5\n",
    "    while i*i <= num:\n",
    "        if num % i == 0 or num % (i + 2) == 0:\n",
    "            return False\n",
    "        \n",
    "        i+=6\n",
    "    return True\n",
    "\n",
    "def main():\n",
    "    print(es_primo(int(input(\"Ingresa un numero: \"))))\n",
    "\n",
    "if __name__  == \"__main__\":\n",
    "    main()"
   ]
  }
 ],
 "metadata": {
  "kernelspec": {
   "display_name": "Python 3",
   "language": "python",
   "name": "python3"
  },
  "language_info": {
   "codemirror_mode": {
    "name": "ipython",
    "version": 3
   },
   "file_extension": ".py",
   "mimetype": "text/x-python",
   "name": "python",
   "nbconvert_exporter": "python",
   "pygments_lexer": "ipython3",
   "version": "3.11.4"
  },
  "orig_nbformat": 4
 },
 "nbformat": 4,
 "nbformat_minor": 2
}
