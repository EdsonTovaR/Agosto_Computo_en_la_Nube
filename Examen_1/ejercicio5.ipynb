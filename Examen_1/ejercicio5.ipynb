{
 "cells": [
  {
   "cell_type": "code",
   "execution_count": null,
   "metadata": {},
   "outputs": [],
   "source": [
    "import math\n",
    "\n",
    "def calcular_hipotenusa(a, b):\n",
    "    hipotenusa = math.sqrt(a**2 + b**2)\n",
    "    return hipotenusa\n",
    "\n",
    "def main():\n",
    "        \n",
    "        lado1 = float(input(\"Ingrese la longitud del primer lado: \"))\n",
    "        lado2 = float(input(\"Ingrese la longitud del segundo lado: \"))\n",
    "        \n",
    "        hipotenusa = calcular_hipotenusa(lado1, lado2)\n",
    "        print(f\"La longitud de la hipotenusa es: {hipotenusa}\")\n",
    "    \n",
    "\n",
    "if __name__ == \"__main__\":\n",
    "    main()"
   ]
  }
 ],
 "metadata": {
  "language_info": {
   "name": "python"
  },
  "orig_nbformat": 4
 },
 "nbformat": 4,
 "nbformat_minor": 2
}
