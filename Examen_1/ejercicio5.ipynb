{
 "cells": [
  {
   "cell_type": "code",
   "execution_count": 1,
   "metadata": {},
   "outputs": [
    {
     "name": "stdout",
     "output_type": "stream",
     "text": [
      "La longitud de la hipotenusa es: 9.433981132056603\n"
     ]
    }
   ],
   "source": [
    "import math\n",
    "\n",
    "def calcular_hipotenusa(a, b):\n",
    "    hipotenusa = math.sqrt(a**2 + b**2)\n",
    "    return hipotenusa\n",
    "\n",
    "def main():\n",
    "        \n",
    "        lado1 = float(input(\"Ingrese la longitud del primer lado: \"))\n",
    "        lado2 = float(input(\"Ingrese la longitud del segundo lado: \"))\n",
    "        \n",
    "        hipotenusa = calcular_hipotenusa(lado1, lado2)\n",
    "        print(f\"La longitud de la hipotenusa es: {hipotenusa}\")\n",
    "    \n",
    "\n",
    "if __name__ == \"__main__\":\n",
    "    main()"
   ]
  }
 ],
 "metadata": {
  "kernelspec": {
   "display_name": "Python 3",
   "language": "python",
   "name": "python3"
  },
  "language_info": {
   "codemirror_mode": {
    "name": "ipython",
    "version": 3
   },
   "file_extension": ".py",
   "mimetype": "text/x-python",
   "name": "python",
   "nbconvert_exporter": "python",
   "pygments_lexer": "ipython3",
   "version": "3.11.4"
  },
  "orig_nbformat": 4
 },
 "nbformat": 4,
 "nbformat_minor": 2
}
