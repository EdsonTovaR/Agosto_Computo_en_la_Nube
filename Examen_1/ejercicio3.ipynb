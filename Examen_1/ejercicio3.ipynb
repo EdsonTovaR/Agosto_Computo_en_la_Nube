{
 "cells": [
  {
   "cell_type": "code",
   "execution_count": null,
   "metadata": {},
   "outputs": [],
   "source": [
    "def val_mediana(n1,n2,n3):\n",
    "    numeros=[n1,n2,n3]\n",
    "    numeros.sort()\n",
    "\n",
    "    return numeros[1]\n",
    "\n",
    "\n",
    "def main():\n",
    "    n1=int(input(\"Ingresa el primer valor: \"))\n",
    "    n2=int(input(\"Ingresa el segundo valor: \"))\n",
    "    n3=int(input(\"Ingresa el tercer valor: \"))\n",
    "\n",
    "    mediana=val_mediana(n1,n2,n3)\n",
    "    print(f\"La mediana de los numeros {n1}, {n2}, {n3} es {mediana}\")\n",
    "\n",
    "\n",
    "\n",
    "\n",
    "\n",
    "\n",
    "if __name__ == \"__main__\":\n",
    "    main()"
   ]
  }
 ],
 "metadata": {
  "language_info": {
   "name": "python"
  },
  "orig_nbformat": 4
 },
 "nbformat": 4,
 "nbformat_minor": 2
}
