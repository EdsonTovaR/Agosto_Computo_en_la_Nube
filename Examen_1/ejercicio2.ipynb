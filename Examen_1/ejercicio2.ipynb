{
 "cells": [
  {
   "cell_type": "code",
   "execution_count": 2,
   "metadata": {},
   "outputs": [
    {
     "name": "stdout",
     "output_type": "stream",
     "text": [
      "El primer numero primero mayor que 2 es 3\n"
     ]
    }
   ],
   "source": [
    "from diccionario import es_primo\n",
    "\n",
    "def nextPrime(n):\n",
    "    if n<=1:\n",
    "        n=2\n",
    "    else:\n",
    "        n+=1\n",
    "\n",
    "    while True:\n",
    "        if es_primo(n):\n",
    "            return n\n",
    "        n+=1\n",
    "\n",
    "def main():\n",
    "    numero=int(input(\"Ingresa un numero: \"))\n",
    "\n",
    "    if numero< 0:\n",
    "        print(\"Ingresa un numero pósitivo\")\n",
    "    else:\n",
    "        siguente_numero=nextPrime(numero)\n",
    "        print(f\"El primer numero primero mayor que {numero} es {siguente_numero}\")\n",
    "\n",
    "if __name__  == \"__main__\":\n",
    "    main()"
   ]
  }
 ],
 "metadata": {
  "kernelspec": {
   "display_name": "Python 3",
   "language": "python",
   "name": "python3"
  },
  "language_info": {
   "codemirror_mode": {
    "name": "ipython",
    "version": 3
   },
   "file_extension": ".py",
   "mimetype": "text/x-python",
   "name": "python",
   "nbconvert_exporter": "python",
   "pygments_lexer": "ipython3",
   "version": "3.11.4"
  },
  "orig_nbformat": 4
 },
 "nbformat": 4,
 "nbformat_minor": 2
}
