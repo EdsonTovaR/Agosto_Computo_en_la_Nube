{
 "cells": [
  {
   "cell_type": "code",
   "execution_count": null,
   "metadata": {},
   "outputs": [],
   "source": [
    "from ejercicio1 import es_primo\n",
    "\n",
    "def nextPrime(n):\n",
    "    if n<=1:\n",
    "        n=2\n",
    "    else:\n",
    "        n+=1\n",
    "\n",
    "    while True:\n",
    "        if es_primo(n):\n",
    "            return n\n",
    "        n+=1\n",
    "\n",
    "def main():\n",
    "    numero=int(input(\"Ingresa un numero: \"))\n",
    "\n",
    "    if numero< 0:\n",
    "        print(\"Ingresa un numero pósitivo\")\n",
    "    else:\n",
    "        siguente_numero=nextPrime(numero)\n",
    "        print(f\"El primer numero primero mayor que {numero} es {siguente_numero}\")\n",
    "\n",
    "if __name__  == \"__main__\":\n",
    "    main()"
   ]
  }
 ],
 "metadata": {
  "language_info": {
   "name": "python"
  },
  "orig_nbformat": 4
 },
 "nbformat": 4,
 "nbformat_minor": 2
}
