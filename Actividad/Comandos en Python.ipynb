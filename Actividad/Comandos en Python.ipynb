{
 "cells": [
  {
   "cell_type": "code",
   "execution_count": 4,
   "metadata": {},
   "outputs": [
    {
     "name": "stdout",
     "output_type": "stream",
     "text": [
      "Red\n",
      "Carbon fiber\n",
      "Blue\n",
      "Steel\n",
      "Braking!\n"
     ]
    }
   ],
   "source": [
    "# definimos la clase Bicicleta\n",
    "class Bike:\n",
    "\n",
    "    def __init__(self, colour, frame_material):\n",
    "        self.colour = colour\n",
    "        self.frame_material = frame_material\n",
    "\n",
    "    def brake(self):\n",
    "        print(\"Braking!\")\n",
    "\n",
    "# creamos un par de instancias\n",
    "red_bike = Bike('Red', 'Carbon fiber')\n",
    "blue_bike = Bike('Blue', 'Steel')\n",
    "\n",
    "# Inspeccionemos los objetos que tenemos, instancias de la clase Bike.\n",
    "print(red_bike.colour) # prints: Red\n",
    "print(red_bike.frame_material) # prints: Carbon fiber\n",
    "print(blue_bike.colour) # prints: Blue\n",
    "print(blue_bike.frame_material) # prints: Steel\n",
    "\n",
    "# finalizamos\n",
    "red_bike.brake() # prints: Braking!"
   ]
  },
  {
   "cell_type": "code",
   "execution_count": 7,
   "metadata": {},
   "outputs": [
    {
     "name": "stdout",
     "output_type": "stream",
     "text": [
      "3.14\n",
      "2.73\n",
      "(6.28+5.46j)\n",
      "(2.4067000000000007+17.1444j)\n",
      "(2.14+1.73j)\n"
     ]
    }
   ],
   "source": [
    "c = 3.14 + 2.73j\n",
    "c = complex(3.14, 2.73) # Lo misma que arriba\n",
    "print(c.real) # parte real\n",
    "\n",
    "print(c.imag) # parte imaginaria\n",
    "\n",
    "c.conjugate() # conjugado de A + Bj is A - Bj\n",
    "\n",
    "print(c * 2) # multiplicacion\n",
    "\n",
    "print(c ** 2) # operacion de potencias\n",
    "\n",
    "d = 1 + 1j # sumas y restas tambien\n",
    "print(c - d)\n"
   ]
  },
  {
   "cell_type": "code",
   "execution_count": 10,
   "metadata": {},
   "outputs": [
    {
     "name": "stdout",
     "output_type": "stream",
     "text": [
      "5\n",
      "3\n"
     ]
    },
    {
     "data": {
      "text/plain": [
       "(5, 3)"
      ]
     },
     "execution_count": 10,
     "metadata": {},
     "output_type": "execute_result"
    }
   ],
   "source": [
    "from fractions import Fraction\n",
    "Fraction(10,6) \n",
    "Fraction(1,3)+Fraction(2,3)# 1/3 +2/3 ==3/3 ==1/1\n",
    "f=Fraction(10,6)\n",
    "print(f.numerator)\n",
    "\n",
    "print(f.denominator)\n",
    "\n",
    "f.as_integer_ratio()"
   ]
  },
  {
   "cell_type": "code",
   "execution_count": 24,
   "metadata": {},
   "outputs": [
    {
     "name": "stdout",
     "output_type": "stream",
     "text": [
      "Hello Edson\n"
     ]
    },
    {
     "data": {
      "text/plain": [
       "'Hello, my name is Edson Tovar'"
      ]
     },
     "execution_count": 24,
     "metadata": {},
     "output_type": "execute_result"
    }
   ],
   "source": [
    "greet_old='Hello %s'\n",
    "print(greet_old % 'Edson')\n",
    "\n",
    "greet_positional='Hello {}!'\n",
    "greet_positional.format('Edson')\n",
    "\n",
    "\n",
    "\n",
    "\n",
    "\n",
    "\n",
    "\n",
    "keyword='Hello, my name is {name} {last_name}'\n",
    "keyword.format(name='Edson',last_name='Tovar')"
   ]
  },
  {
   "cell_type": "code",
   "execution_count": 21,
   "metadata": {},
   "outputs": [
    {
     "data": {
      "text/plain": [
       "'Hello Edson Caro!'"
      ]
     },
     "execution_count": 21,
     "metadata": {},
     "output_type": "execute_result"
    }
   ],
   "source": [
    "greet_positional='Hello {} {}!'\n",
    "greet_positional.format('Edson','Caro') "
   ]
  },
  {
   "cell_type": "code",
   "execution_count": 23,
   "metadata": {},
   "outputs": [
    {
     "data": {
      "text/plain": [
       "'This is Coffee! Fab loves Coffee!'"
      ]
     },
     "execution_count": 23,
     "metadata": {},
     "output_type": "execute_result"
    }
   ],
   "source": [
    "greet_positional_idx= 'This is {0}! {1} loves {0}!'\n",
    "greet_positional_idx.format('Python','Edson')\n",
    "\n",
    "greet_positional_idx.format('Coffee','Fab')"
   ]
  },
  {
   "cell_type": "code",
   "execution_count": 27,
   "metadata": {},
   "outputs": [
    {
     "name": "stdout",
     "output_type": "stream",
     "text": [
      "Price for sku 3 is now 16.0\n"
     ]
    }
   ],
   "source": [
    "from datetime import date, timedelta\n",
    "today = date.today()\n",
    "tomorrow = today + timedelta(days=1) # hoy + 1 día es mañana\n",
    "products = [\n",
    "    {'sku': '1', 'expiration_date': today, 'price': 100.0},\n",
    "    {'sku': '2', 'expiration_date': tomorrow, 'price': 50},\n",
    "    {'sku': '3', 'expiration_date': today, 'price': 20},\n",
    "]\n",
    "for product in products:\n",
    "    if product['expiration_date'] != today:\n",
    "        continue\n",
    "product['price'] *= 0.8 # equivalente a aplicar un 20% de descuento\n",
    "print(\n",
    "    'Price for sku', product['sku'],\n",
    "    'is now', product['price'])"
   ]
  },
  {
   "cell_type": "code",
   "execution_count": 28,
   "metadata": {},
   "outputs": [
    {
     "name": "stdout",
     "output_type": "stream",
     "text": [
      "scanning item 0\n",
      "scanning item None\n",
      "scanning item 0.0\n",
      "scanning item True\n",
      "At least one item evaluates to True\n"
     ]
    }
   ],
   "source": [
    "items = [0, None, 0.0, True, 0, 7] # Verdadero y 7 se evalúan como Verdadero\n",
    "\n",
    "found = False # esto se llama \"bandera\"\n",
    "for item in items:\n",
    "    print('scanning item', item)\n",
    "    if item:\n",
    "        found = True # Nosotros actualizamos la bandera\n",
    "        break\n",
    "if found: # Nosotros inspeccionamos la bandera\n",
    "    print('At least one item evaluates to True')\n",
    "else:\n",
    "    print('All items evaluate to False')"
   ]
  },
  {
   "cell_type": "code",
   "execution_count": 1,
   "metadata": {},
   "outputs": [
    {
     "name": "stdout",
     "output_type": "stream",
     "text": [
      "['pistachio', 'malaga', 'vanilla', 'chocolate', 'strawberry']\n"
     ]
    }
   ],
   "source": [
    "flavors = [\"pistachio\", \"malaga\", \"vanilla\", \"chocolate\", \"strawberry\"]\n",
    "prompt = \"Choose your flavor: \"\n",
    "print(flavors)\n",
    "while True:\n",
    "    choice = input(prompt)\n",
    "    if choice in flavors:\n",
    "        break\n",
    "    print(f\"Sorry, '{choice}' is not a valid option.\")\n",
    "print(f\"You chose '{choice}'.\")"
   ]
  },
  {
   "cell_type": "code",
   "execution_count": 2,
   "metadata": {},
   "outputs": [
    {
     "name": "stdout",
     "output_type": "stream",
     "text": [
      "[2, 3, 5, 7, 11, 13, 17, 19, 23, 29, 31, 37, 41, 43, 47, 53, 59, 61, 67, 71, 73, 79, 83, 89, 97]\n"
     ]
    }
   ],
   "source": [
    "primes = [] # esto contendrá los números primos al final\n",
    "upto = 100 # el límite\n",
    "for n in range(2, upto + 1):\n",
    "    is_prime = True # Bandera, nuevo en cada iteración de exterior\n",
    "    for divisor in range(2, n):\n",
    "        if n % divisor == 0:\n",
    "            is_prime = False\n",
    "            break\n",
    "    if is_prime: # comprobar la bandera\n",
    "        primes.append(n)\n",
    "print(primes)"
   ]
  },
  {
   "cell_type": "code",
   "execution_count": 3,
   "metadata": {},
   "outputs": [
    {
     "name": "stdout",
     "output_type": "stream",
     "text": [
      "[0, 1, 0, 1, 0, 1, 0, 1, 0, 1, 0, 1, 0, 1, 0, 1, 0, 1, 0, 1]\n",
      "[0, 1, 2, 3, 4, 5, 6, 7, 8, 9]\n",
      "[0, 2, 4, 6, 8]\n",
      "[1, 3, 5, 7, 9]\n"
     ]
    }
   ],
   "source": [
    "from itertools import compress\n",
    "data = range(10)\n",
    "even_selector = [1, 0] * 10\n",
    "odd_selector = [0, 1] * 10\n",
    "even_numbers = list(compress(data, even_selector))\n",
    "odd_numbers = list(compress(data, odd_selector))\n",
    "print(odd_selector)\n",
    "print(list(data))\n",
    "print(even_numbers)\n",
    "print(odd_numbers)"
   ]
  },
  {
   "cell_type": "code",
   "execution_count": 4,
   "metadata": {},
   "outputs": [
    {
     "name": "stdout",
     "output_type": "stream",
     "text": [
      "inner: 2\n",
      "outer: 1\n",
      "global: 0\n"
     ]
    }
   ],
   "source": [
    "def outer():\n",
    "    test = 1 # outer scope\n",
    "    \n",
    "    def inner():\n",
    "        test = 2 # inner scope\n",
    "        print('inner:', test)\n",
    "    inner()\n",
    "    print('outer:', test)\n",
    "\n",
    "test = 0 # global scope\n",
    "outer()\n",
    "print('global:', test)"
   ]
  },
  {
   "cell_type": "code",
   "execution_count": 5,
   "metadata": {},
   "outputs": [
    {
     "name": "stdout",
     "output_type": "stream",
     "text": [
      "1 2 3\n"
     ]
    }
   ],
   "source": [
    "def func(a, b, c):\n",
    "    print(a, b, c)\n",
    "func(1, 2, 3) # prints: 1 2 3"
   ]
  },
  {
   "cell_type": "code",
   "execution_count": 6,
   "metadata": {},
   "outputs": [
    {
     "name": "stdout",
     "output_type": "stream",
     "text": [
      "1 3 2\n"
     ]
    }
   ],
   "source": [
    "def func(a, b, c):\n",
    "    print(a, b, c)\n",
    "func(a=1, c=2, b=3) # prints: 1 3 2"
   ]
  },
  {
   "cell_type": "code",
   "execution_count": 7,
   "metadata": {},
   "outputs": [
    {
     "name": "stdout",
     "output_type": "stream",
     "text": [
      "-7\n"
     ]
    }
   ],
   "source": [
    "def minimum(*n):\n",
    "    # print(type(n)) # n is a tuple\n",
    "    if n: # explained after the code\n",
    "        mn = n[0]\n",
    "        for value in n[1:]:\n",
    "            if value < mn:\n",
    "                mn = value\n",
    "        print(mn)\n",
    "minimum(1, 3, -7, 9) # n = (1, 3, -7, 9) - prints: -7\n",
    "minimum() # n = () - prints: nothing"
   ]
  },
  {
   "cell_type": "code",
   "execution_count": 8,
   "metadata": {},
   "outputs": [
    {
     "name": "stdout",
     "output_type": "stream",
     "text": [
      "{'a': 1, 'b': 42}\n",
      "{}\n",
      "{'a': 1, 'b': 46, 'c': 99}\n"
     ]
    }
   ],
   "source": [
    "def func(**kwargs):\n",
    "    print(kwargs)\n",
    "    \n",
    "func(a=1, b=42) # prints {'a': 1, 'b': 42}\n",
    "func() # prints {}\n",
    "func(a=1, b=46, c=99) # prints {'a': 1, 'b': 46, 'c': 99}"
   ]
  },
  {
   "cell_type": "code",
   "execution_count": 10,
   "metadata": {},
   "outputs": [
    {
     "name": "stdout",
     "output_type": "stream",
     "text": [
      "120\n"
     ]
    }
   ],
   "source": [
    "def factorial(n):\n",
    "    if n in (0, 1):\n",
    "        return 1\n",
    "    result = n\n",
    "    for k in range(2, n):\n",
    "        result *= k\n",
    "    return result\n",
    "f5 = factorial(5) # f5 = 120\n",
    "print(f5)"
   ]
  },
  {
   "cell_type": "code",
   "execution_count": 19,
   "metadata": {},
   "outputs": [],
   "source": [
    "def adder(a, b):\n",
    "    return a + b\n",
    "# es equivalente a:\n",
    "adder_lambda = lambda a, b: a + b\n",
    "# ejemplo 2: a mayúsculas\n",
    "def to_upper(s):\n",
    "    return s.upper()\n",
    "# es equivalente a:\n",
    "to_upper_lambda = lambda s: s.upper()\n",
    "\n"
   ]
  },
  {
   "cell_type": "code",
   "execution_count": 2,
   "metadata": {},
   "outputs": [
    {
     "name": "stdout",
     "output_type": "stream",
     "text": [
      "Hola Edson\n"
     ]
    }
   ],
   "source": [
    "fh = open('fear.txt', 'rt') # r: read, t: text\n",
    "for line in fh.readlines():\n",
    "    print(line.strip()) # remove whitespace and print\n",
    "fh.close()"
   ]
  },
  {
   "cell_type": "code",
   "execution_count": 5,
   "metadata": {},
   "outputs": [
    {
     "name": "stdout",
     "output_type": "stream",
     "text": [
      "c:\\Users\\edson\\Documents\\GitHub\\Agosto_Computo_en_la_Nube\\Actividad\\fear.txt\n",
      "fear.txt\n",
      "c:\\Users\\edson\\Documents\\GitHub\\Agosto_Computo_en_la_Nube\\Actividad\n",
      ".txt\n",
      "('fear.txt',)\n",
      "('c:\\\\', 'Users', 'edson', 'Documents', 'GitHub', 'Agosto_Computo_en_la_Nube', 'Actividad', 'fear.txt')\n",
      "c:\\Users\\edson\\Documents\\GitHub\\Agosto_Computo_en_la_Nube\\Actividad\\..\\..\\README.rst\n",
      "C:\\Users\\edson\\Documents\\GitHub\\README.rst\n"
     ]
    }
   ],
   "source": [
    "from pathlib import Path\n",
    "p = Path('fear.txt')\n",
    "print(p.absolute())\n",
    "print(p.name)\n",
    "print(p.parent.absolute())\n",
    "print(p.suffix)\n",
    "print(p.parts)\n",
    "print(p.absolute().parts)\n",
    "readme_path = p.parent / '..' / '..' / 'README.rst'\n",
    "print(readme_path.absolute())\n",
    "print(readme_path.resolve())"
   ]
  },
  {
   "cell_type": "code",
   "execution_count": 6,
   "metadata": {},
   "outputs": [
    {
     "name": "stdout",
     "output_type": "stream",
     "text": [
      "Temp directory: .\\tmpo3kspoip\n",
      "c:\\Users\\edson\\Documents\\GitHub\\Agosto_Computo_en_la_Nube\\Actividad\\tmpo3kspoip\\tmpjq56t71z\n"
     ]
    }
   ],
   "source": [
    "from tempfile import NamedTemporaryFile, TemporaryDirectory\n",
    "\n",
    "with TemporaryDirectory(dir='.') as td:\n",
    "    print('Temp directory:', td)\n",
    "    with NamedTemporaryFile(dir=td) as t:\n",
    "        name = t.name\n",
    "        print(name)"
   ]
  },
  {
   "cell_type": "code",
   "execution_count": 14,
   "metadata": {},
   "outputs": [
    {
     "name": "stdout",
     "output_type": "stream",
     "text": [
      "File: Comandos en Python.ipynb\n",
      "File: content1.txt\n",
      "File: content2.txt\n",
      "File: example.zip\n",
      "Folder: extract_zip\n",
      "File: fear.txt\n",
      "Folder: subfolder\n"
     ]
    }
   ],
   "source": [
    "from pathlib import Path\n",
    "p = Path('.')\n",
    "for entry in p.glob('*'):\n",
    "    print('File:' if entry.is_file() else 'Folder:', entry)"
   ]
  },
  {
   "cell_type": "code",
   "execution_count": 13,
   "metadata": {},
   "outputs": [
    {
     "name": "stdout",
     "output_type": "stream",
     "text": [
      "c:\\Users\\edson\\Documents\\GitHub\\Agosto_Computo_en_la_Nube\\Actividad\n",
      "Directories:\n",
      "extract_zip\n",
      "subfolder\n",
      "\n",
      "Files:\n",
      "Comandos en Python.ipynb\n",
      "content1.txt\n",
      "content2.txt\n",
      "example.zip\n",
      "fear.txt\n",
      "\n",
      "c:\\Users\\edson\\Documents\\GitHub\\Agosto_Computo_en_la_Nube\\Actividad\\extract_zip\n",
      "Directories:\n",
      "subfolder\n",
      "\n",
      "Files:\n",
      "content1.txt\n",
      "\n",
      "c:\\Users\\edson\\Documents\\GitHub\\Agosto_Computo_en_la_Nube\\Actividad\\extract_zip\\subfolder\n",
      "Files:\n",
      "content3.txt\n",
      "\n",
      "c:\\Users\\edson\\Documents\\GitHub\\Agosto_Computo_en_la_Nube\\Actividad\\subfolder\n",
      "Files:\n",
      "content3.txt\n",
      "content4.txt\n",
      "\n"
     ]
    }
   ],
   "source": [
    "import os\n",
    "for root, dirs, files in os.walk('.'):\n",
    "    abs_root = os.path.abspath(root)\n",
    "    print(abs_root)\n",
    "\n",
    "    if dirs:\n",
    "        print('Directories:')\n",
    "        for dir_ in dirs:\n",
    "            print(dir_)\n",
    "        print()\n",
    "    if files:\n",
    "        print('Files:')\n",
    "        for filename in files:\n",
    "            print(filename)\n",
    "        print()"
   ]
  },
  {
   "cell_type": "code",
   "execution_count": 12,
   "metadata": {},
   "outputs": [],
   "source": [
    "from zipfile import ZipFile\n",
    "with ZipFile('example.zip', 'w') as zp:\n",
    "    zp.write('content1.txt')\n",
    "    zp.write('content2.txt')\n",
    "    zp.write('subfolder/content3.txt')\n",
    "    zp.write('subfolder/content4.txt')\n",
    "with ZipFile('example.zip') as zp:\n",
    "    zp.extract('content1.txt', 'extract_zip')\n",
    "    zp.extract('subfolder/content3.txt', 'extract_zip')"
   ]
  },
  {
   "cell_type": "code",
   "execution_count": 21,
   "metadata": {},
   "outputs": [],
   "source": [
    "import sys\n",
    "import json\n",
    "\n",
    "data = {\n",
    "    'big_number': 2 ** 3141,\n",
    "    'max_float': sys.float_info.max,\n",
    "    'a_list': [2, 3, 5, 7],\n",
    "}\n",
    "\n",
    "json_data = json.dumps(data)\n",
    "data_out = json.loads(json_data)\n",
    "assert data == data_out # json and back, data matches\n",
    "\n",
    "with open('data.json', 'wt') as f:\n",
    "    json.dump(data, f)\n",
    "\n",
    "\n",
    "\n",
    "\n"
   ]
  },
  {
   "cell_type": "code",
   "execution_count": 22,
   "metadata": {},
   "outputs": [
    {
     "name": "stdout",
     "output_type": "stream",
     "text": [
      "{\n",
      "  \"address\": {\n",
      "    \"city\": \"London\",\n",
      "    \"country\": \"UK\",\n",
      "    \"street\": \"221B Baker St\",\n",
      "    \"zip\": \"NW1 6XE\"\n",
      "  },\n",
      "  \"full_name\": \"Sherlock Holmes\"\n",
      "}\n"
     ]
    }
   ],
   "source": [
    "import json\n",
    "info = {\n",
    "'full_name': 'Sherlock Holmes',\n",
    "'address': {\n",
    "'street': '221B Baker St',\n",
    "'zip': 'NW1 6XE',\n",
    "'city': 'London',\n",
    "'country': 'UK',\n",
    "}\n",
    "}\n",
    "print(json.dumps(info, indent=2, sort_keys=True))"
   ]
  },
  {
   "cell_type": "code",
   "execution_count": 4,
   "metadata": {},
   "outputs": [
    {
     "name": "stdout",
     "output_type": "stream",
     "text": [
      "Learning Python Programming.\n",
      "Become a Python ninja!\n",
      "\n"
     ]
    }
   ],
   "source": [
    "import io\n",
    "\n",
    "stream = io.StringIO()\n",
    "stream.write('Learning Python Programming.\\n')\n",
    "print('Become a Python ninja!', file=stream)\n",
    "\n",
    "contents = stream.getvalue()\n",
    "print(contents)\n",
    "\n",
    "stream.close()"
   ]
  },
  {
   "cell_type": "code",
   "execution_count": 5,
   "metadata": {},
   "outputs": [
    {
     "name": "stdout",
     "output_type": "stream",
     "text": [
      "Response for get\n",
      "{'args': {'t': 'learn python programming'}, 'headers': {'Accept': '*/*', 'Accept-Encoding': 'gzip, deflate', 'Host': 'httpbin.org', 'User-Agent': 'python-requests/2.31.0', 'X-Amzn-Trace-Id': 'Root=1-64fe9d67-073d6aea55b1d0c922891394'}, 'origin': '156.233.28.26', 'url': 'https://httpbin.org/get?t=learn+python+programming'}\n",
      "----------------------------------------\n",
      "Response for headers\n",
      "{'headers': {'Accept': '*/*', 'Accept-Encoding': 'gzip, deflate', 'Host': 'httpbin.org', 'User-Agent': 'python-requests/2.31.0', 'X-Amzn-Trace-Id': 'Root=1-64fe9d68-4127105c46233ea65fc1bd57'}}\n",
      "----------------------------------------\n",
      "Response for ip\n",
      "{'origin': '156.233.28.26'}\n",
      "----------------------------------------\n",
      "Response for user-agent\n",
      "{'user-agent': 'python-requests/2.31.0'}\n",
      "----------------------------------------\n",
      "Response for UUID\n",
      "{'uuid': 'aa1d4762-d754-4406-840e-ca3feb42c4d6'}\n",
      "----------------------------------------\n",
      "Response for JSON\n",
      "{'slideshow': {'author': 'Yours Truly', 'date': 'date of publication', 'slides': [{'title': 'Wake up to WonderWidgets!', 'type': 'all'}, {'items': ['Why <em>WonderWidgets</em> are great', 'Who <em>buys</em> WonderWidgets'], 'title': 'Overview', 'type': 'all'}], 'title': 'Sample Slide Show'}}\n",
      "----------------------------------------\n"
     ]
    }
   ],
   "source": [
    "import requests\n",
    "urls = {\n",
    "    \"get\": \"https://httpbin.org/get?t=learn+python+programming\",\n",
    "    \"headers\": \"https://httpbin.org/headers\",\n",
    "    \"ip\": \"https://httpbin.org/ip\",\n",
    "    \"user-agent\": \"https://httpbin.org/user-agent\",\n",
    "    \"UUID\": \"https://httpbin.org/uuid\",\n",
    "    \"JSON\": \"https://httpbin.org/json\",\n",
    "}\n",
    "def get_content(title, url):\n",
    "    resp = requests.get(url)\n",
    "    print(f\"Response for {title}\")\n",
    "    print(resp.json())\n",
    "\n",
    "\n",
    "for title, url in urls.items():\n",
    "    get_content(title, url)\n",
    "    print(\"-\" * 40)"
   ]
  },
  {
   "cell_type": "code",
   "execution_count": 6,
   "metadata": {},
   "outputs": [
    {
     "name": "stdout",
     "output_type": "stream",
     "text": [
      "Response for POST\n",
      "{'args': {}, 'data': '', 'files': {}, 'form': {'title': 'Learn Python Programming'}, 'headers': {'Accept': '*/*', 'Accept-Encoding': 'gzip, deflate', 'Content-Length': '30', 'Content-Type': 'application/x-www-form-urlencoded', 'Host': 'httpbin.org', 'User-Agent': 'python-requests/2.31.0', 'X-Amzn-Trace-Id': 'Root=1-64fe9e0b-50507fd575c162ce7e1a7967'}, 'json': None, 'origin': '156.233.28.26', 'url': 'https://httpbin.org/post'}\n"
     ]
    }
   ],
   "source": [
    "import requests\n",
    "\n",
    "url = 'https://httpbin.org/post'\n",
    "data = dict(title='Learn Python Programming')\n",
    "\n",
    "resp = requests.post(url, data=data)\n",
    "print('Response for POST')\n",
    "print(resp.json())"
   ]
  },
  {
   "cell_type": "code",
   "execution_count": 9,
   "metadata": {},
   "outputs": [
    {
     "name": "stdout",
     "output_type": "stream",
     "text": [
      "Hi, I am Obi-Wan Kenobi and my ID is 123\n",
      "Hi, I am Anakin Skywalker and my ID is 456\n"
     ]
    }
   ],
   "source": [
    "import pickle\n",
    "from dataclasses import dataclass\n",
    "\n",
    "@dataclass\n",
    "class Person:\n",
    "    first_name: str\n",
    "    last_name: str\n",
    "    id: int\n",
    "\n",
    "def greet(self):\n",
    "    print(f'Hi, I am {self.first_name} {self.last_name}'\n",
    "        f' and my ID is {self.id}')\n",
    "    \n",
    "people = [\n",
    "    Person('Obi-Wan', 'Kenobi', 123),\n",
    "    Person('Anakin', 'Skywalker', 456),\n",
    "]\n",
    "# save data in binary format to a file\n",
    "with open('data.pickle', 'wb') as stream:\n",
    "    pickle.dump(people, stream)\n",
    "\n",
    "# load data from a file\n",
    "with open('data.pickle', 'rb') as stream:\n",
    "    peeps = pickle.load(stream)\n",
    "    \n",
    "for person in peeps:\n",
    "    greet(person)"
   ]
  },
  {
   "cell_type": "code",
   "execution_count": 10,
   "metadata": {},
   "outputs": [
    {
     "name": "stdout",
     "output_type": "stream",
     "text": [
      "['obi1', 'ani', 'a_list', 'delete_me']\n",
      "['obi1', 'ani', 'a_list']\n",
      "False\n",
      "True\n",
      "[2, 3, 5, 7]\n"
     ]
    }
   ],
   "source": [
    "import shelve\n",
    "\n",
    "class Person:\n",
    "    def __init__(self, name, id):\n",
    "        self.name = name\n",
    "        self.id = id\n",
    "\n",
    "with shelve.open('shelf1.shelve') as db:\n",
    "    db['obi1'] = Person('Obi-Wan', 123)\n",
    "    db['ani'] = Person('Anakin', 456)\n",
    "    db['a_list'] = [2, 3, 5]\n",
    "    db['delete_me'] = 'we will have to delete this one...'\n",
    "    print(list(db.keys())) # 'ani', 'delete_me', 'a_list', 'obi1']\n",
    "\n",
    "    del db['delete_me'] # gone!\n",
    "    print(list(db.keys())) # ['ani', 'a_list', 'obi1']\n",
    "    print('delete_me' in db) # False\n",
    "    print('ani' in db) # True\n",
    "\n",
    "    a_list = db['a_list']\n",
    "    a_list.append(7)\n",
    "    db['a_list'] = a_list\n",
    "    print(db['a_list']) # [2, 3, 5, 7]"
   ]
  },
  {
   "cell_type": "code",
   "execution_count": 11,
   "metadata": {},
   "outputs": [
    {
     "name": "stdout",
     "output_type": "stream",
     "text": [
      "[11, 13, 17, 19]\n"
     ]
    }
   ],
   "source": [
    "with shelve.open('shelf2.shelve', writeback=True) as db:\n",
    "    db['a_list'] = [11, 13, 17]\n",
    "    db['a_list'].append(19) # in-place append!\n",
    "    print(db['a_list']) # [11, 13, 17, 19]"
   ]
  }
 ],
 "metadata": {
  "kernelspec": {
   "display_name": "Python 3",
   "language": "python",
   "name": "python3"
  },
  "language_info": {
   "codemirror_mode": {
    "name": "ipython",
    "version": 3
   },
   "file_extension": ".py",
   "mimetype": "text/x-python",
   "name": "python",
   "nbconvert_exporter": "python",
   "pygments_lexer": "ipython3",
   "version": "3.11.4"
  },
  "orig_nbformat": 4
 },
 "nbformat": 4,
 "nbformat_minor": 2
}
