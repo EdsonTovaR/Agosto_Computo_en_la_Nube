{
 "cells": [
  {
   "cell_type": "code",
   "execution_count": 1,
   "metadata": {},
   "outputs": [],
   "source": [
    "def es_primo(num):\n",
    "    if num <= 1:\n",
    "        return False\n",
    "    if num <=3:\n",
    "        return True\n",
    "    if num % 2==0  or num % 3 == 0:\n",
    "        return False\n",
    "    \n",
    "    i=5\n",
    "    while i*i <= num:\n",
    "        if num % i == 0 or num % (i + 2) == 0:\n",
    "            return False\n",
    "        \n",
    "        i+=6\n",
    "    return True\n",
    "\n",
    "from diccionario import es_primo\n",
    "\n",
    "def nextPrime(n):\n",
    "    if n<=1:\n",
    "        n=2\n",
    "    else:\n",
    "        n+=1\n",
    "\n",
    "    while True:\n",
    "        if es_primo(n):\n",
    "            return n\n",
    "        n+=1\n",
    "\n",
    "def val_mediana(n1,n2,n3):\n",
    "    numeros=[n1,n2,n3]\n",
    "    numeros.sort()\n",
    "\n",
    "    return numeros[1]\n",
    "\n",
    "import random\n",
    "import string\n",
    "\n",
    "def generar_contrasena():\n",
    "    longitud = random.randint(7, 10)  \n",
    "    contrasena = ''.join(random.choice(string.printable[33:127]) for _ in range(longitud))\n",
    "    return contrasena\n",
    "\n",
    "import math\n",
    "\n",
    "def calcular_hipotenusa(a, b):\n",
    "    hipotenusa = math.sqrt(a**2 + b**2)\n",
    "    return hipotenusa"
   ]
  }
 ],
 "metadata": {
  "kernelspec": {
   "display_name": "Python 3",
   "language": "python",
   "name": "python3"
  },
  "language_info": {
   "codemirror_mode": {
    "name": "ipython",
    "version": 3
   },
   "file_extension": ".py",
   "mimetype": "text/x-python",
   "name": "python",
   "nbconvert_exporter": "python",
   "pygments_lexer": "ipython3",
   "version": "3.11.4"
  },
  "orig_nbformat": 4
 },
 "nbformat": 4,
 "nbformat_minor": 2
}
