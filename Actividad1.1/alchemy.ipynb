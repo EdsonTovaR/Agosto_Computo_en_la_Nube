{
 "cells": [
  {
   "cell_type": "code",
   "execution_count": 3,
   "metadata": {},
   "outputs": [
    {
     "name": "stdout",
     "output_type": "stream",
     "text": [
      "Person(name=Obi-Wan Kenobi, id=2) [Address(email=obi1@example.com, id=3), Address(email=wanwan@example.com, id=4)]\n",
      "Person(name=Anakin Skywalker, id=5) [Address(email=ani@example.com, id=9), Address(email=evil.dart@example.com, id=10)]\n",
      "Obi-Wan Kenobi <obi1@example.com>\n",
      "Obi-Wan Kenobi <wanwan@example.com>\n",
      "Obi-Wan Kenobi <obi1@example.com>\n",
      "Obi-Wan Kenobi <wanwan@example.com>\n",
      "Anakin Skywalker <ani@example.com>\n",
      "Anakin Skywalker <evil.dart@example.com>\n",
      "Obi-Wan Kenobi <obi1@example.com>\n",
      "Obi-Wan Kenobi <wanwan@example.com>\n",
      "personas: 4, direcciones: 8\n",
      "Obi-Wan Kenobi <obi1@example.com>\n",
      "Obi-Wan Kenobi <wanwan@example.com>\n",
      "Obi-Wan Kenobi <obi1@example.com>\n",
      "Obi-Wan Kenobi <wanwan@example.com>\n",
      "Obi-Wan Kenobi <obi1@example.com>\n",
      "Obi-Wan Kenobi <wanwan@example.com>\n",
      "personas: 3, direcciones: 6\n"
     ]
    }
   ],
   "source": [
    "from alchemy_models import Person, Address, engine\n",
    "from sqlalchemy.orm import sessionmaker\n",
    "\n",
    "Session = sessionmaker(bind=engine)\n",
    "session = Session()\n",
    "\n",
    "anakin = Person(name='Anakin Skywalker', age=32)\n",
    "obi1 = Person(name='Obi-Wan Kenobi', age=40)\n",
    "\n",
    "obi1.addresses = [\n",
    "    Address(email='obi1@example.com'),\n",
    "    Address(email='wanwan@example.com'),\n",
    "]\n",
    "anakin.addresses.append(Address(email='ani@example.com'))\n",
    "anakin.addresses.append(Address(email='evil.dart@example.com'))\n",
    "\n",
    "session.add(anakin)\n",
    "session.add(obi1)\n",
    "session.commit()\n",
    "\n",
    "obi1 = session.query(Person).filter(\n",
    "    Person.name.like('Obi%')\n",
    ").first()\n",
    "print(obi1, obi1.addresses)\n",
    "\n",
    "anakin = session.query(Person).filter(\n",
    "    Person.name == 'Anakin Skywalker'\n",
    ").first()\n",
    "\n",
    "print(anakin, anakin.addresses)\n",
    "\n",
    "anakin_id = anakin.id\n",
    "\n",
    "def display_info():\n",
    "    # obtener todas las direcciones primero\n",
    "    addresses = session.query(Address).all()\n",
    "    # mostrar resultados\n",
    "    for address in addresses:\n",
    "        print(f'{address.person.name} <{address.email}>')\n",
    "    # mostrar cuántos objetos tenemos en total\n",
    "    print('personas: {}, direcciones: {}'.format(\n",
    "        session.query(Person).count(),\n",
    "        session.query(Address).count()))\n",
    "\n",
    "display_info()\n",
    "\n",
    "anakin = session.query(Person).get(anakin_id)\n",
    "session.delete(anakin)\n",
    "session.commit()\n",
    "\n",
    "display_info()\n"
   ]
  }
 ],
 "metadata": {
  "kernelspec": {
   "display_name": "Python 3",
   "language": "python",
   "name": "python3"
  },
  "language_info": {
   "codemirror_mode": {
    "name": "ipython",
    "version": 3
   },
   "file_extension": ".py",
   "mimetype": "text/x-python",
   "name": "python",
   "nbconvert_exporter": "python",
   "pygments_lexer": "ipython3",
   "version": "3.11.4"
  },
  "orig_nbformat": 4
 },
 "nbformat": 4,
 "nbformat_minor": 2
}
