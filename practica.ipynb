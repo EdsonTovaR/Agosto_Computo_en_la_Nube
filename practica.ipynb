{
 "cells": [
  {
   "cell_type": "code",
   "execution_count": 3,
   "metadata": {},
   "outputs": [
    {
     "name": "stdout",
     "output_type": "stream",
     "text": [
      "True\n"
     ]
    }
   ],
   "source": [
    "def es_primo(num):\n",
    "    if num <= 1:\n",
    "        return False\n",
    "    if num <=3:\n",
    "        return True\n",
    "    if num % 2 ==0 or num % 3 ==0:\n",
    "        return False\n",
    "    i=5\n",
    "    while i*i <=num:\n",
    "        if num % i==0 or num % (i+2)==0:\n",
    "            return False\n",
    "    return True\n",
    "\n",
    "def main():\n",
    "    print(es_primo(int(input(\"Ingresa un numero: \"))))\n",
    "\n",
    "if __name__ == \"__main__\":\n",
    "    main()"
   ]
  },
  {
   "cell_type": "code",
   "execution_count": 4,
   "metadata": {},
   "outputs": [
    {
     "name": "stdout",
     "output_type": "stream",
     "text": [
      "El numero primo siguente de 4 es 5\n"
     ]
    }
   ],
   "source": [
    "def nextPrime(n):\n",
    "    if n<=1:\n",
    "        n=2\n",
    "    else:\n",
    "        n+=1\n",
    "\n",
    "    while True:\n",
    "        if es_primo(n):\n",
    "            return n\n",
    "        n+=1\n",
    "\n",
    "def main():\n",
    "    numero=int(input(\"Ingresa el numero: \"))\n",
    "    if numero < 0:\n",
    "        print(\"El numero debe ser positivo\")\n",
    "    else:\n",
    "        siguente_primo=nextPrime(numero)\n",
    "        print(f\"El numero primo siguente de {numero} es {siguente_primo}\")\n",
    "\n",
    "if __name__ == \"__main__\":\n",
    "    main()"
   ]
  },
  {
   "cell_type": "code",
   "execution_count": 8,
   "metadata": {},
   "outputs": [
    {
     "name": "stdout",
     "output_type": "stream",
     "text": [
      "La mediana de los numeros 1, 5, 99 es 5\n"
     ]
    }
   ],
   "source": [
    "def mediana(n1,n2,n3):\n",
    "    lista = [n1, n2 , n3]\n",
    "    lista.sort()\n",
    "    return lista[1]\n",
    "\n",
    "\n",
    "def main():\n",
    "    n1=int(input(\"ingresa el primer numero: \"))\n",
    "    n2 = int ( input (\" ingresar segundo numero :\"))\n",
    "    n3=int(input(\"Ingresa el tercer numero: \"))\n",
    "\n",
    "    medianaa=mediana(n1,n2,n3)\n",
    "    print(f\"La mediana de los numeros {n1}, {n2}, {n3} es {medianaa}\")\n",
    "\n",
    "if __name__ == \"__main__\":\n",
    "    main()\n",
    "\n"
   ]
  },
  {
   "cell_type": "code",
   "execution_count": 22,
   "metadata": {},
   "outputs": [
    {
     "name": "stdout",
     "output_type": "stream",
     "text": [
      "La contraseña generada es B}KFMZ!);%\n"
     ]
    }
   ],
   "source": [
    "import string\n",
    "import random\n",
    "def generar_contraseña():\n",
    "    longitud=random.randint(7,10)\n",
    "    contrasena= ''.join(random.choice(string.printable[33:127]) for _ in range(longitud))\n",
    "    return contrasena\n",
    "\n",
    "\n",
    "def main():\n",
    "    contraseña_generada=generar_contraseña()\n",
    "    print(f\"La contraseña generada es {contraseña_generada}\")\n",
    "\n",
    "if __name__ == \"__main__\":\n",
    "    main()"
   ]
  },
  {
   "cell_type": "code",
   "execution_count": 24,
   "metadata": {},
   "outputs": [
    {
     "name": "stdout",
     "output_type": "stream",
     "text": [
      "El resultado es 9.433981132056603\n"
     ]
    }
   ],
   "source": [
    "import math\n",
    "def calculo(a,b):\n",
    "    hipotenusa=math.sqrt(a**2 + b**2)\n",
    "    return hipotenusa\n",
    "\n",
    "def main():\n",
    "    lado1=float(input(\"Agrega el lado 1: \"))\n",
    "    lado2=float(input(\"Ingresa el lado 2: \"))\n",
    "\n",
    "    resultado=calculo(lado1,lado2)\n",
    "    print(f\"El resultado es {resultado}\")\n",
    "\n",
    "if __name__==\"__main__\":\n",
    "    main()\n"
   ]
  }
 ],
 "metadata": {
  "kernelspec": {
   "display_name": "Python 3",
   "language": "python",
   "name": "python3"
  },
  "language_info": {
   "codemirror_mode": {
    "name": "ipython",
    "version": 3
   },
   "file_extension": ".py",
   "mimetype": "text/x-python",
   "name": "python",
   "nbconvert_exporter": "python",
   "pygments_lexer": "ipython3",
   "version": "3.11.4"
  },
  "orig_nbformat": 4
 },
 "nbformat": 4,
 "nbformat_minor": 2
}
